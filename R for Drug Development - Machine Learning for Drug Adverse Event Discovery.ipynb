{
 "cells": [
  {
   "cell_type": "markdown",
   "metadata": {},
   "source": [
    "# R for Drug Development"
   ]
  },
  {
   "cell_type": "markdown",
   "metadata": {},
   "source": [
    "## Machine Learning for Drug Adverse Event Discovery\n",
    "\n",
    "\n",
    "![](http://deepscreening.xielab.net/static/img/dpvs.png)"
   ]
  },
  {
   "cell_type": "markdown",
   "metadata": {},
   "source": [
    "### [See more orginary post](https://www.r-bloggers.com/2016/09/machine-learning-for-drug-adverse-event-discovery/)"
   ]
  },
  {
   "cell_type": "markdown",
   "metadata": {},
   "source": [
    "### Data"
   ]
  },
  {
   "cell_type": "code",
   "execution_count": 5,
   "metadata": {},
   "outputs": [],
   "source": [
    "my_data<-read.csv(\"Machine-Learning-for-Drug-Adverse-Event-Discovery.csv\")"
   ]
  },
  {
   "cell_type": "code",
   "execution_count": 6,
   "metadata": {},
   "outputs": [
    {
     "data": {
      "text/html": [
       "<table class=\"dataframe\">\n",
       "<caption>A data.frame: 6 × 6</caption>\n",
       "<thead>\n",
       "\t<tr><th></th><th scope=col>route</th><th scope=col>age</th><th scope=col>sex</th><th scope=col>outc_cod</th><th scope=col>indi_pt</th><th scope=col>pt</th></tr>\n",
       "\t<tr><th></th><th scope=col>&lt;chr&gt;</th><th scope=col>&lt;int&gt;</th><th scope=col>&lt;chr&gt;</th><th scope=col>&lt;chr&gt;</th><th scope=col>&lt;chr&gt;</th><th scope=col>&lt;chr&gt;</th></tr>\n",
       "</thead>\n",
       "<tbody>\n",
       "\t<tr><th scope=row>1</th><td>ORAL</td><td>63</td><td>M</td><td>OT</td><td>RHEUMATOID ARTHRITIS</td><td>VASCULITIC RASH</td></tr>\n",
       "\t<tr><th scope=row>2</th><td>ORAL</td><td>66</td><td>F</td><td>OT</td><td>RHEUMATOID ARTHRITIS</td><td>VASCULITIC RASH</td></tr>\n",
       "\t<tr><th scope=row>3</th><td>ORAL</td><td>66</td><td>M</td><td>OT</td><td>RHEUMATOID ARTHRITIS</td><td>VASCULITIC RASH</td></tr>\n",
       "\t<tr><th scope=row>4</th><td>ORAL</td><td>57</td><td>M</td><td>OT</td><td>RHEUMATOID ARTHRITIS</td><td>VASCULITIC RASH</td></tr>\n",
       "\t<tr><th scope=row>5</th><td>ORAL</td><td>66</td><td>M</td><td>OT</td><td>RHEUMATOID ARTHRITIS</td><td>VASCULITIC RASH</td></tr>\n",
       "\t<tr><th scope=row>6</th><td>ORAL</td><td>66</td><td>M</td><td>OT</td><td>RHEUMATOID ARTHRITIS</td><td>VASCULITIC RASH</td></tr>\n",
       "</tbody>\n",
       "</table>\n"
      ],
      "text/latex": [
       "A data.frame: 6 × 6\n",
       "\\begin{tabular}{r|llllll}\n",
       "  & route & age & sex & outc\\_cod & indi\\_pt & pt\\\\\n",
       "  & <chr> & <int> & <chr> & <chr> & <chr> & <chr>\\\\\n",
       "\\hline\n",
       "\t1 & ORAL & 63 & M & OT & RHEUMATOID ARTHRITIS & VASCULITIC RASH\\\\\n",
       "\t2 & ORAL & 66 & F & OT & RHEUMATOID ARTHRITIS & VASCULITIC RASH\\\\\n",
       "\t3 & ORAL & 66 & M & OT & RHEUMATOID ARTHRITIS & VASCULITIC RASH\\\\\n",
       "\t4 & ORAL & 57 & M & OT & RHEUMATOID ARTHRITIS & VASCULITIC RASH\\\\\n",
       "\t5 & ORAL & 66 & M & OT & RHEUMATOID ARTHRITIS & VASCULITIC RASH\\\\\n",
       "\t6 & ORAL & 66 & M & OT & RHEUMATOID ARTHRITIS & VASCULITIC RASH\\\\\n",
       "\\end{tabular}\n"
      ],
      "text/markdown": [
       "\n",
       "A data.frame: 6 × 6\n",
       "\n",
       "| <!--/--> | route &lt;chr&gt; | age &lt;int&gt; | sex &lt;chr&gt; | outc_cod &lt;chr&gt; | indi_pt &lt;chr&gt; | pt &lt;chr&gt; |\n",
       "|---|---|---|---|---|---|---|\n",
       "| 1 | ORAL | 63 | M | OT | RHEUMATOID ARTHRITIS | VASCULITIC RASH |\n",
       "| 2 | ORAL | 66 | F | OT | RHEUMATOID ARTHRITIS | VASCULITIC RASH |\n",
       "| 3 | ORAL | 66 | M | OT | RHEUMATOID ARTHRITIS | VASCULITIC RASH |\n",
       "| 4 | ORAL | 57 | M | OT | RHEUMATOID ARTHRITIS | VASCULITIC RASH |\n",
       "| 5 | ORAL | 66 | M | OT | RHEUMATOID ARTHRITIS | VASCULITIC RASH |\n",
       "| 6 | ORAL | 66 | M | OT | RHEUMATOID ARTHRITIS | VASCULITIC RASH |\n",
       "\n"
      ],
      "text/plain": [
       "  route age sex outc_cod indi_pt              pt             \n",
       "1 ORAL  63  M   OT       RHEUMATOID ARTHRITIS VASCULITIC RASH\n",
       "2 ORAL  66  F   OT       RHEUMATOID ARTHRITIS VASCULITIC RASH\n",
       "3 ORAL  66  M   OT       RHEUMATOID ARTHRITIS VASCULITIC RASH\n",
       "4 ORAL  57  M   OT       RHEUMATOID ARTHRITIS VASCULITIC RASH\n",
       "5 ORAL  66  M   OT       RHEUMATOID ARTHRITIS VASCULITIC RASH\n",
       "6 ORAL  66  M   OT       RHEUMATOID ARTHRITIS VASCULITIC RASH"
      ]
     },
     "metadata": {},
     "output_type": "display_data"
    }
   ],
   "source": [
    "head(my_data)"
   ]
  },
  {
   "cell_type": "markdown",
   "metadata": {},
   "source": [
    "### Hierarchical Clustering"
   ]
  },
  {
   "cell_type": "code",
   "execution_count": 9,
   "metadata": {},
   "outputs": [],
   "source": [
    "age = my_data$age"
   ]
  },
  {
   "cell_type": "code",
   "execution_count": 13,
   "metadata": {},
   "outputs": [
    {
     "name": "stderr",
     "output_type": "stream",
     "text": [
      "\n",
      "Attaching package: ‘dplyr’\n",
      "\n",
      "\n",
      "The following object is masked from ‘package:sos’:\n",
      "\n",
      "    matches\n",
      "\n",
      "\n",
      "The following objects are masked from ‘package:stats’:\n",
      "\n",
      "    filter, lag\n",
      "\n",
      "\n",
      "The following objects are masked from ‘package:base’:\n",
      "\n",
      "    intersect, setdiff, setequal, union\n",
      "\n",
      "\n"
     ]
    }
   ],
   "source": [
    "library(dplyr)"
   ]
  },
  {
   "cell_type": "code",
   "execution_count": 14,
   "metadata": {},
   "outputs": [],
   "source": [
    "my_data = select(my_data,-age)"
   ]
  },
  {
   "cell_type": "code",
   "execution_count": 16,
   "metadata": {},
   "outputs": [
    {
     "data": {
      "text/html": [
       "<table class=\"dataframe\">\n",
       "<caption>A data.frame: 6 × 5</caption>\n",
       "<thead>\n",
       "\t<tr><th></th><th scope=col>route</th><th scope=col>sex</th><th scope=col>outc_cod</th><th scope=col>indi_pt</th><th scope=col>pt</th></tr>\n",
       "\t<tr><th></th><th scope=col>&lt;chr&gt;</th><th scope=col>&lt;chr&gt;</th><th scope=col>&lt;chr&gt;</th><th scope=col>&lt;chr&gt;</th><th scope=col>&lt;chr&gt;</th></tr>\n",
       "</thead>\n",
       "<tbody>\n",
       "\t<tr><th scope=row>1</th><td>ORAL</td><td>M</td><td>OT</td><td>RHEUMATOID ARTHRITIS</td><td>VASCULITIC RASH</td></tr>\n",
       "\t<tr><th scope=row>2</th><td>ORAL</td><td>F</td><td>OT</td><td>RHEUMATOID ARTHRITIS</td><td>VASCULITIC RASH</td></tr>\n",
       "\t<tr><th scope=row>3</th><td>ORAL</td><td>M</td><td>OT</td><td>RHEUMATOID ARTHRITIS</td><td>VASCULITIC RASH</td></tr>\n",
       "\t<tr><th scope=row>4</th><td>ORAL</td><td>M</td><td>OT</td><td>RHEUMATOID ARTHRITIS</td><td>VASCULITIC RASH</td></tr>\n",
       "\t<tr><th scope=row>5</th><td>ORAL</td><td>M</td><td>OT</td><td>RHEUMATOID ARTHRITIS</td><td>VASCULITIC RASH</td></tr>\n",
       "\t<tr><th scope=row>6</th><td>ORAL</td><td>M</td><td>OT</td><td>RHEUMATOID ARTHRITIS</td><td>VASCULITIC RASH</td></tr>\n",
       "</tbody>\n",
       "</table>\n"
      ],
      "text/latex": [
       "A data.frame: 6 × 5\n",
       "\\begin{tabular}{r|lllll}\n",
       "  & route & sex & outc\\_cod & indi\\_pt & pt\\\\\n",
       "  & <chr> & <chr> & <chr> & <chr> & <chr>\\\\\n",
       "\\hline\n",
       "\t1 & ORAL & M & OT & RHEUMATOID ARTHRITIS & VASCULITIC RASH\\\\\n",
       "\t2 & ORAL & F & OT & RHEUMATOID ARTHRITIS & VASCULITIC RASH\\\\\n",
       "\t3 & ORAL & M & OT & RHEUMATOID ARTHRITIS & VASCULITIC RASH\\\\\n",
       "\t4 & ORAL & M & OT & RHEUMATOID ARTHRITIS & VASCULITIC RASH\\\\\n",
       "\t5 & ORAL & M & OT & RHEUMATOID ARTHRITIS & VASCULITIC RASH\\\\\n",
       "\t6 & ORAL & M & OT & RHEUMATOID ARTHRITIS & VASCULITIC RASH\\\\\n",
       "\\end{tabular}\n"
      ],
      "text/markdown": [
       "\n",
       "A data.frame: 6 × 5\n",
       "\n",
       "| <!--/--> | route &lt;chr&gt; | sex &lt;chr&gt; | outc_cod &lt;chr&gt; | indi_pt &lt;chr&gt; | pt &lt;chr&gt; |\n",
       "|---|---|---|---|---|---|\n",
       "| 1 | ORAL | M | OT | RHEUMATOID ARTHRITIS | VASCULITIC RASH |\n",
       "| 2 | ORAL | F | OT | RHEUMATOID ARTHRITIS | VASCULITIC RASH |\n",
       "| 3 | ORAL | M | OT | RHEUMATOID ARTHRITIS | VASCULITIC RASH |\n",
       "| 4 | ORAL | M | OT | RHEUMATOID ARTHRITIS | VASCULITIC RASH |\n",
       "| 5 | ORAL | M | OT | RHEUMATOID ARTHRITIS | VASCULITIC RASH |\n",
       "| 6 | ORAL | M | OT | RHEUMATOID ARTHRITIS | VASCULITIC RASH |\n",
       "\n"
      ],
      "text/plain": [
       "  route sex outc_cod indi_pt              pt             \n",
       "1 ORAL  M   OT       RHEUMATOID ARTHRITIS VASCULITIC RASH\n",
       "2 ORAL  F   OT       RHEUMATOID ARTHRITIS VASCULITIC RASH\n",
       "3 ORAL  M   OT       RHEUMATOID ARTHRITIS VASCULITIC RASH\n",
       "4 ORAL  M   OT       RHEUMATOID ARTHRITIS VASCULITIC RASH\n",
       "5 ORAL  M   OT       RHEUMATOID ARTHRITIS VASCULITIC RASH\n",
       "6 ORAL  M   OT       RHEUMATOID ARTHRITIS VASCULITIC RASH"
      ]
     },
     "metadata": {},
     "output_type": "display_data"
    }
   ],
   "source": [
    "head(my_data)"
   ]
  },
  {
   "cell_type": "markdown",
   "metadata": {},
   "source": [
    "### Create a Matrix"
   ]
  },
  {
   "cell_type": "code",
   "execution_count": 20,
   "metadata": {},
   "outputs": [],
   "source": [
    "my_matrix = as.data.frame(do.call(cbind, lapply(my_data, function(x) table(1:nrow(my_data), x))))"
   ]
  },
  {
   "cell_type": "code",
   "execution_count": 22,
   "metadata": {},
   "outputs": [
    {
     "data": {
      "text/html": [
       "<table class=\"dataframe\">\n",
       "<caption>A data.frame: 6 × 17</caption>\n",
       "<thead>\n",
       "\t<tr><th></th><th scope=col>INTRAVENOUS</th><th scope=col>OPHTHALMIC</th><th scope=col>ORAL</th><th scope=col>TOPICAL</th><th scope=col>F</th><th scope=col>M</th><th scope=col>DE</th><th scope=col>HO</th><th scope=col>LT</th><th scope=col>OT</th><th scope=col>RHEUMATOID ARTHRITIS</th><th scope=col>Senile osteoporosis</th><th scope=col>TONSILLITIS</th><th scope=col>URINARY TRACT INFECTION</th><th scope=col>Sepsis</th><th scope=col>VASCULITIC RASH</th><th scope=col>VOMITING</th></tr>\n",
       "\t<tr><th></th><th scope=col>&lt;int&gt;</th><th scope=col>&lt;int&gt;</th><th scope=col>&lt;int&gt;</th><th scope=col>&lt;int&gt;</th><th scope=col>&lt;int&gt;</th><th scope=col>&lt;int&gt;</th><th scope=col>&lt;int&gt;</th><th scope=col>&lt;int&gt;</th><th scope=col>&lt;int&gt;</th><th scope=col>&lt;int&gt;</th><th scope=col>&lt;int&gt;</th><th scope=col>&lt;int&gt;</th><th scope=col>&lt;int&gt;</th><th scope=col>&lt;int&gt;</th><th scope=col>&lt;int&gt;</th><th scope=col>&lt;int&gt;</th><th scope=col>&lt;int&gt;</th></tr>\n",
       "</thead>\n",
       "<tbody>\n",
       "\t<tr><th scope=row>1</th><td>0</td><td>0</td><td>1</td><td>0</td><td>0</td><td>1</td><td>0</td><td>0</td><td>0</td><td>1</td><td>1</td><td>0</td><td>0</td><td>0</td><td>0</td><td>1</td><td>0</td></tr>\n",
       "\t<tr><th scope=row>2</th><td>0</td><td>0</td><td>1</td><td>0</td><td>1</td><td>0</td><td>0</td><td>0</td><td>0</td><td>1</td><td>1</td><td>0</td><td>0</td><td>0</td><td>0</td><td>1</td><td>0</td></tr>\n",
       "\t<tr><th scope=row>3</th><td>0</td><td>0</td><td>1</td><td>0</td><td>0</td><td>1</td><td>0</td><td>0</td><td>0</td><td>1</td><td>1</td><td>0</td><td>0</td><td>0</td><td>0</td><td>1</td><td>0</td></tr>\n",
       "\t<tr><th scope=row>4</th><td>0</td><td>0</td><td>1</td><td>0</td><td>0</td><td>1</td><td>0</td><td>0</td><td>0</td><td>1</td><td>1</td><td>0</td><td>0</td><td>0</td><td>0</td><td>1</td><td>0</td></tr>\n",
       "\t<tr><th scope=row>5</th><td>0</td><td>0</td><td>1</td><td>0</td><td>0</td><td>1</td><td>0</td><td>0</td><td>0</td><td>1</td><td>1</td><td>0</td><td>0</td><td>0</td><td>0</td><td>1</td><td>0</td></tr>\n",
       "\t<tr><th scope=row>6</th><td>0</td><td>0</td><td>1</td><td>0</td><td>0</td><td>1</td><td>0</td><td>0</td><td>0</td><td>1</td><td>1</td><td>0</td><td>0</td><td>0</td><td>0</td><td>1</td><td>0</td></tr>\n",
       "</tbody>\n",
       "</table>\n"
      ],
      "text/latex": [
       "A data.frame: 6 × 17\n",
       "\\begin{tabular}{r|lllllllllllllllll}\n",
       "  & INTRAVENOUS & OPHTHALMIC & ORAL & TOPICAL & F & M & DE & HO & LT & OT & RHEUMATOID ARTHRITIS & Senile osteoporosis & TONSILLITIS & URINARY TRACT INFECTION & Sepsis & VASCULITIC RASH & VOMITING\\\\\n",
       "  & <int> & <int> & <int> & <int> & <int> & <int> & <int> & <int> & <int> & <int> & <int> & <int> & <int> & <int> & <int> & <int> & <int>\\\\\n",
       "\\hline\n",
       "\t1 & 0 & 0 & 1 & 0 & 0 & 1 & 0 & 0 & 0 & 1 & 1 & 0 & 0 & 0 & 0 & 1 & 0\\\\\n",
       "\t2 & 0 & 0 & 1 & 0 & 1 & 0 & 0 & 0 & 0 & 1 & 1 & 0 & 0 & 0 & 0 & 1 & 0\\\\\n",
       "\t3 & 0 & 0 & 1 & 0 & 0 & 1 & 0 & 0 & 0 & 1 & 1 & 0 & 0 & 0 & 0 & 1 & 0\\\\\n",
       "\t4 & 0 & 0 & 1 & 0 & 0 & 1 & 0 & 0 & 0 & 1 & 1 & 0 & 0 & 0 & 0 & 1 & 0\\\\\n",
       "\t5 & 0 & 0 & 1 & 0 & 0 & 1 & 0 & 0 & 0 & 1 & 1 & 0 & 0 & 0 & 0 & 1 & 0\\\\\n",
       "\t6 & 0 & 0 & 1 & 0 & 0 & 1 & 0 & 0 & 0 & 1 & 1 & 0 & 0 & 0 & 0 & 1 & 0\\\\\n",
       "\\end{tabular}\n"
      ],
      "text/markdown": [
       "\n",
       "A data.frame: 6 × 17\n",
       "\n",
       "| <!--/--> | INTRAVENOUS &lt;int&gt; | OPHTHALMIC &lt;int&gt; | ORAL &lt;int&gt; | TOPICAL &lt;int&gt; | F &lt;int&gt; | M &lt;int&gt; | DE &lt;int&gt; | HO &lt;int&gt; | LT &lt;int&gt; | OT &lt;int&gt; | RHEUMATOID ARTHRITIS &lt;int&gt; | Senile osteoporosis &lt;int&gt; | TONSILLITIS &lt;int&gt; | URINARY TRACT INFECTION &lt;int&gt; | Sepsis &lt;int&gt; | VASCULITIC RASH &lt;int&gt; | VOMITING &lt;int&gt; |\n",
       "|---|---|---|---|---|---|---|---|---|---|---|---|---|---|---|---|---|---|\n",
       "| 1 | 0 | 0 | 1 | 0 | 0 | 1 | 0 | 0 | 0 | 1 | 1 | 0 | 0 | 0 | 0 | 1 | 0 |\n",
       "| 2 | 0 | 0 | 1 | 0 | 1 | 0 | 0 | 0 | 0 | 1 | 1 | 0 | 0 | 0 | 0 | 1 | 0 |\n",
       "| 3 | 0 | 0 | 1 | 0 | 0 | 1 | 0 | 0 | 0 | 1 | 1 | 0 | 0 | 0 | 0 | 1 | 0 |\n",
       "| 4 | 0 | 0 | 1 | 0 | 0 | 1 | 0 | 0 | 0 | 1 | 1 | 0 | 0 | 0 | 0 | 1 | 0 |\n",
       "| 5 | 0 | 0 | 1 | 0 | 0 | 1 | 0 | 0 | 0 | 1 | 1 | 0 | 0 | 0 | 0 | 1 | 0 |\n",
       "| 6 | 0 | 0 | 1 | 0 | 0 | 1 | 0 | 0 | 0 | 1 | 1 | 0 | 0 | 0 | 0 | 1 | 0 |\n",
       "\n"
      ],
      "text/plain": [
       "  INTRAVENOUS OPHTHALMIC ORAL TOPICAL F M DE HO LT OT RHEUMATOID ARTHRITIS\n",
       "1 0           0          1    0       0 1 0  0  0  1  1                   \n",
       "2 0           0          1    0       1 0 0  0  0  1  1                   \n",
       "3 0           0          1    0       0 1 0  0  0  1  1                   \n",
       "4 0           0          1    0       0 1 0  0  0  1  1                   \n",
       "5 0           0          1    0       0 1 0  0  0  1  1                   \n",
       "6 0           0          1    0       0 1 0  0  0  1  1                   \n",
       "  Senile osteoporosis TONSILLITIS URINARY TRACT INFECTION Sepsis\n",
       "1 0                   0           0                       0     \n",
       "2 0                   0           0                       0     \n",
       "3 0                   0           0                       0     \n",
       "4 0                   0           0                       0     \n",
       "5 0                   0           0                       0     \n",
       "6 0                   0           0                       0     \n",
       "  VASCULITIC RASH VOMITING\n",
       "1 1               0       \n",
       "2 1               0       \n",
       "3 1               0       \n",
       "4 1               0       \n",
       "5 1               0       \n",
       "6 1               0       "
      ]
     },
     "metadata": {},
     "output_type": "display_data"
    }
   ],
   "source": [
    "head(my_matrix)"
   ]
  },
  {
   "cell_type": "code",
   "execution_count": 23,
   "metadata": {},
   "outputs": [],
   "source": [
    "my_matrix$Age=age"
   ]
  },
  {
   "cell_type": "code",
   "execution_count": 24,
   "metadata": {},
   "outputs": [
    {
     "data": {
      "text/html": [
       "<table class=\"dataframe\">\n",
       "<caption>A data.frame: 6 × 18</caption>\n",
       "<thead>\n",
       "\t<tr><th></th><th scope=col>INTRAVENOUS</th><th scope=col>OPHTHALMIC</th><th scope=col>ORAL</th><th scope=col>TOPICAL</th><th scope=col>F</th><th scope=col>M</th><th scope=col>DE</th><th scope=col>HO</th><th scope=col>LT</th><th scope=col>OT</th><th scope=col>RHEUMATOID ARTHRITIS</th><th scope=col>Senile osteoporosis</th><th scope=col>TONSILLITIS</th><th scope=col>URINARY TRACT INFECTION</th><th scope=col>Sepsis</th><th scope=col>VASCULITIC RASH</th><th scope=col>VOMITING</th><th scope=col>Age</th></tr>\n",
       "\t<tr><th></th><th scope=col>&lt;int&gt;</th><th scope=col>&lt;int&gt;</th><th scope=col>&lt;int&gt;</th><th scope=col>&lt;int&gt;</th><th scope=col>&lt;int&gt;</th><th scope=col>&lt;int&gt;</th><th scope=col>&lt;int&gt;</th><th scope=col>&lt;int&gt;</th><th scope=col>&lt;int&gt;</th><th scope=col>&lt;int&gt;</th><th scope=col>&lt;int&gt;</th><th scope=col>&lt;int&gt;</th><th scope=col>&lt;int&gt;</th><th scope=col>&lt;int&gt;</th><th scope=col>&lt;int&gt;</th><th scope=col>&lt;int&gt;</th><th scope=col>&lt;int&gt;</th><th scope=col>&lt;int&gt;</th></tr>\n",
       "</thead>\n",
       "<tbody>\n",
       "\t<tr><th scope=row>1</th><td>0</td><td>0</td><td>1</td><td>0</td><td>0</td><td>1</td><td>0</td><td>0</td><td>0</td><td>1</td><td>1</td><td>0</td><td>0</td><td>0</td><td>0</td><td>1</td><td>0</td><td>63</td></tr>\n",
       "\t<tr><th scope=row>2</th><td>0</td><td>0</td><td>1</td><td>0</td><td>1</td><td>0</td><td>0</td><td>0</td><td>0</td><td>1</td><td>1</td><td>0</td><td>0</td><td>0</td><td>0</td><td>1</td><td>0</td><td>66</td></tr>\n",
       "\t<tr><th scope=row>3</th><td>0</td><td>0</td><td>1</td><td>0</td><td>0</td><td>1</td><td>0</td><td>0</td><td>0</td><td>1</td><td>1</td><td>0</td><td>0</td><td>0</td><td>0</td><td>1</td><td>0</td><td>66</td></tr>\n",
       "\t<tr><th scope=row>4</th><td>0</td><td>0</td><td>1</td><td>0</td><td>0</td><td>1</td><td>0</td><td>0</td><td>0</td><td>1</td><td>1</td><td>0</td><td>0</td><td>0</td><td>0</td><td>1</td><td>0</td><td>57</td></tr>\n",
       "\t<tr><th scope=row>5</th><td>0</td><td>0</td><td>1</td><td>0</td><td>0</td><td>1</td><td>0</td><td>0</td><td>0</td><td>1</td><td>1</td><td>0</td><td>0</td><td>0</td><td>0</td><td>1</td><td>0</td><td>66</td></tr>\n",
       "\t<tr><th scope=row>6</th><td>0</td><td>0</td><td>1</td><td>0</td><td>0</td><td>1</td><td>0</td><td>0</td><td>0</td><td>1</td><td>1</td><td>0</td><td>0</td><td>0</td><td>0</td><td>1</td><td>0</td><td>66</td></tr>\n",
       "</tbody>\n",
       "</table>\n"
      ],
      "text/latex": [
       "A data.frame: 6 × 18\n",
       "\\begin{tabular}{r|llllllllllllllllll}\n",
       "  & INTRAVENOUS & OPHTHALMIC & ORAL & TOPICAL & F & M & DE & HO & LT & OT & RHEUMATOID ARTHRITIS & Senile osteoporosis & TONSILLITIS & URINARY TRACT INFECTION & Sepsis & VASCULITIC RASH & VOMITING & Age\\\\\n",
       "  & <int> & <int> & <int> & <int> & <int> & <int> & <int> & <int> & <int> & <int> & <int> & <int> & <int> & <int> & <int> & <int> & <int> & <int>\\\\\n",
       "\\hline\n",
       "\t1 & 0 & 0 & 1 & 0 & 0 & 1 & 0 & 0 & 0 & 1 & 1 & 0 & 0 & 0 & 0 & 1 & 0 & 63\\\\\n",
       "\t2 & 0 & 0 & 1 & 0 & 1 & 0 & 0 & 0 & 0 & 1 & 1 & 0 & 0 & 0 & 0 & 1 & 0 & 66\\\\\n",
       "\t3 & 0 & 0 & 1 & 0 & 0 & 1 & 0 & 0 & 0 & 1 & 1 & 0 & 0 & 0 & 0 & 1 & 0 & 66\\\\\n",
       "\t4 & 0 & 0 & 1 & 0 & 0 & 1 & 0 & 0 & 0 & 1 & 1 & 0 & 0 & 0 & 0 & 1 & 0 & 57\\\\\n",
       "\t5 & 0 & 0 & 1 & 0 & 0 & 1 & 0 & 0 & 0 & 1 & 1 & 0 & 0 & 0 & 0 & 1 & 0 & 66\\\\\n",
       "\t6 & 0 & 0 & 1 & 0 & 0 & 1 & 0 & 0 & 0 & 1 & 1 & 0 & 0 & 0 & 0 & 1 & 0 & 66\\\\\n",
       "\\end{tabular}\n"
      ],
      "text/markdown": [
       "\n",
       "A data.frame: 6 × 18\n",
       "\n",
       "| <!--/--> | INTRAVENOUS &lt;int&gt; | OPHTHALMIC &lt;int&gt; | ORAL &lt;int&gt; | TOPICAL &lt;int&gt; | F &lt;int&gt; | M &lt;int&gt; | DE &lt;int&gt; | HO &lt;int&gt; | LT &lt;int&gt; | OT &lt;int&gt; | RHEUMATOID ARTHRITIS &lt;int&gt; | Senile osteoporosis &lt;int&gt; | TONSILLITIS &lt;int&gt; | URINARY TRACT INFECTION &lt;int&gt; | Sepsis &lt;int&gt; | VASCULITIC RASH &lt;int&gt; | VOMITING &lt;int&gt; | Age &lt;int&gt; |\n",
       "|---|---|---|---|---|---|---|---|---|---|---|---|---|---|---|---|---|---|---|\n",
       "| 1 | 0 | 0 | 1 | 0 | 0 | 1 | 0 | 0 | 0 | 1 | 1 | 0 | 0 | 0 | 0 | 1 | 0 | 63 |\n",
       "| 2 | 0 | 0 | 1 | 0 | 1 | 0 | 0 | 0 | 0 | 1 | 1 | 0 | 0 | 0 | 0 | 1 | 0 | 66 |\n",
       "| 3 | 0 | 0 | 1 | 0 | 0 | 1 | 0 | 0 | 0 | 1 | 1 | 0 | 0 | 0 | 0 | 1 | 0 | 66 |\n",
       "| 4 | 0 | 0 | 1 | 0 | 0 | 1 | 0 | 0 | 0 | 1 | 1 | 0 | 0 | 0 | 0 | 1 | 0 | 57 |\n",
       "| 5 | 0 | 0 | 1 | 0 | 0 | 1 | 0 | 0 | 0 | 1 | 1 | 0 | 0 | 0 | 0 | 1 | 0 | 66 |\n",
       "| 6 | 0 | 0 | 1 | 0 | 0 | 1 | 0 | 0 | 0 | 1 | 1 | 0 | 0 | 0 | 0 | 1 | 0 | 66 |\n",
       "\n"
      ],
      "text/plain": [
       "  INTRAVENOUS OPHTHALMIC ORAL TOPICAL F M DE HO LT OT RHEUMATOID ARTHRITIS\n",
       "1 0           0          1    0       0 1 0  0  0  1  1                   \n",
       "2 0           0          1    0       1 0 0  0  0  1  1                   \n",
       "3 0           0          1    0       0 1 0  0  0  1  1                   \n",
       "4 0           0          1    0       0 1 0  0  0  1  1                   \n",
       "5 0           0          1    0       0 1 0  0  0  1  1                   \n",
       "6 0           0          1    0       0 1 0  0  0  1  1                   \n",
       "  Senile osteoporosis TONSILLITIS URINARY TRACT INFECTION Sepsis\n",
       "1 0                   0           0                       0     \n",
       "2 0                   0           0                       0     \n",
       "3 0                   0           0                       0     \n",
       "4 0                   0           0                       0     \n",
       "5 0                   0           0                       0     \n",
       "6 0                   0           0                       0     \n",
       "  VASCULITIC RASH VOMITING Age\n",
       "1 1               0        63 \n",
       "2 1               0        66 \n",
       "3 1               0        66 \n",
       "4 1               0        57 \n",
       "5 1               0        66 \n",
       "6 1               0        66 "
      ]
     },
     "metadata": {},
     "output_type": "display_data"
    }
   ],
   "source": [
    "head(my_matrix)"
   ]
  },
  {
   "cell_type": "code",
   "execution_count": 25,
   "metadata": {},
   "outputs": [
    {
     "name": "stderr",
     "output_type": "stream",
     "text": [
      "Loading required package: lattice\n",
      "\n",
      "Loading required package: ggplot2\n",
      "\n"
     ]
    }
   ],
   "source": [
    "library(caret)\n",
    "preproc = preProcess(my_matrix)\n",
    "my_matrixNorm = as.matrix(predict(preproc, my_matrix))"
   ]
  },
  {
   "cell_type": "code",
   "execution_count": 26,
   "metadata": {},
   "outputs": [
    {
     "data": {
      "image/png": "[encoded data removed]",
      "text/plain": [
       "Plot with title “Cluster Dendrogram”"
      ]
     },
     "metadata": {
      "image/png": {
       "height": 420,
       "width": 420
      }
     },
     "output_type": "display_data"
    }
   ],
   "source": [
    "distances = dist(my_matrixNorm, method = \"euclidean\")\n",
    "clusterdrug = hclust(distances, method = \"ward.D\") \n",
    "plot(clusterdrug, cex=0.5, labels = FALSE,cex=0.5,xlab = \"\", sub = \"\",cex=1.2)"
   ]
  },
  {
   "cell_type": "code",
   "execution_count": 29,
   "metadata": {},
   "outputs": [],
   "source": [
    "library(dendextend)"
   ]
  },
  {
   "cell_type": "code",
   "execution_count": 30,
   "metadata": {},
   "outputs": [
    {
     "data": {
      "image/png": "[encoded data removed]",
      "text/plain": [
       "plot without title"
      ]
     },
     "metadata": {
      "image/png": {
       "height": 420,
       "width": 420
      }
     },
     "output_type": "display_data"
    }
   ],
   "source": [
    "library(dendextend)\n",
    "dend <- as.dendrogram(clusterdrug) \n",
    "# install.packages(\"dendextend\") \n",
    "# library(dendextend)\n",
    "# Color the branches based on the clusters:\n",
    "dend <- color_branches(dend, k=4) #, groupLabels=iris_species)\n",
    "# We hang the dendrogram a bit:\n",
    "dend <- hang.dendrogram(dend,hang_height=0.1)\n",
    "# reduce the size of the labels:\n",
    "# dend <- assign_values_to_leaves_nodePar(dend, 0.5, \"lab.cex\")\n",
    "dend <- set(dend, \"labels_cex\", 0.5)\n",
    "plot(dend)"
   ]
  },
  {
   "cell_type": "code",
   "execution_count": 31,
   "metadata": {},
   "outputs": [],
   "source": [
    "clusterGroups = cutree(clusterdrug, k = 4)"
   ]
  },
  {
   "cell_type": "code",
   "execution_count": 33,
   "metadata": {},
   "outputs": [
    {
     "data": {
      "text/html": [
       "<table class=\"dataframe\">\n",
       "<caption>A data.frame: 6 × 7</caption>\n",
       "<thead>\n",
       "\t<tr><th></th><th scope=col>Cluster</th><th scope=col>route</th><th scope=col>sex</th><th scope=col>outc_cod</th><th scope=col>indi_pt</th><th scope=col>pt</th><th scope=col>age</th></tr>\n",
       "\t<tr><th></th><th scope=col>&lt;int&gt;</th><th scope=col>&lt;chr&gt;</th><th scope=col>&lt;chr&gt;</th><th scope=col>&lt;chr&gt;</th><th scope=col>&lt;chr&gt;</th><th scope=col>&lt;chr&gt;</th><th scope=col>&lt;int&gt;</th></tr>\n",
       "</thead>\n",
       "<tbody>\n",
       "\t<tr><th scope=row>1</th><td>1</td><td>ORAL</td><td>M</td><td>OT</td><td>RHEUMATOID ARTHRITIS</td><td>VASCULITIC RASH</td><td>63</td></tr>\n",
       "\t<tr><th scope=row>2</th><td>1</td><td>ORAL</td><td>F</td><td>OT</td><td>RHEUMATOID ARTHRITIS</td><td>VASCULITIC RASH</td><td>66</td></tr>\n",
       "\t<tr><th scope=row>3</th><td>1</td><td>ORAL</td><td>M</td><td>OT</td><td>RHEUMATOID ARTHRITIS</td><td>VASCULITIC RASH</td><td>66</td></tr>\n",
       "\t<tr><th scope=row>4</th><td>1</td><td>ORAL</td><td>M</td><td>OT</td><td>RHEUMATOID ARTHRITIS</td><td>VASCULITIC RASH</td><td>57</td></tr>\n",
       "\t<tr><th scope=row>5</th><td>1</td><td>ORAL</td><td>M</td><td>OT</td><td>RHEUMATOID ARTHRITIS</td><td>VASCULITIC RASH</td><td>66</td></tr>\n",
       "\t<tr><th scope=row>6</th><td>1</td><td>ORAL</td><td>M</td><td>OT</td><td>RHEUMATOID ARTHRITIS</td><td>VASCULITIC RASH</td><td>66</td></tr>\n",
       "</tbody>\n",
       "</table>\n"
      ],
      "text/latex": [
       "A data.frame: 6 × 7\n",
       "\\begin{tabular}{r|lllllll}\n",
       "  & Cluster & route & sex & outc\\_cod & indi\\_pt & pt & age\\\\\n",
       "  & <int> & <chr> & <chr> & <chr> & <chr> & <chr> & <int>\\\\\n",
       "\\hline\n",
       "\t1 & 1 & ORAL & M & OT & RHEUMATOID ARTHRITIS & VASCULITIC RASH & 63\\\\\n",
       "\t2 & 1 & ORAL & F & OT & RHEUMATOID ARTHRITIS & VASCULITIC RASH & 66\\\\\n",
       "\t3 & 1 & ORAL & M & OT & RHEUMATOID ARTHRITIS & VASCULITIC RASH & 66\\\\\n",
       "\t4 & 1 & ORAL & M & OT & RHEUMATOID ARTHRITIS & VASCULITIC RASH & 57\\\\\n",
       "\t5 & 1 & ORAL & M & OT & RHEUMATOID ARTHRITIS & VASCULITIC RASH & 66\\\\\n",
       "\t6 & 1 & ORAL & M & OT & RHEUMATOID ARTHRITIS & VASCULITIC RASH & 66\\\\\n",
       "\\end{tabular}\n"
      ],
      "text/markdown": [
       "\n",
       "A data.frame: 6 × 7\n",
       "\n",
       "| <!--/--> | Cluster &lt;int&gt; | route &lt;chr&gt; | sex &lt;chr&gt; | outc_cod &lt;chr&gt; | indi_pt &lt;chr&gt; | pt &lt;chr&gt; | age &lt;int&gt; |\n",
       "|---|---|---|---|---|---|---|---|\n",
       "| 1 | 1 | ORAL | M | OT | RHEUMATOID ARTHRITIS | VASCULITIC RASH | 63 |\n",
       "| 2 | 1 | ORAL | F | OT | RHEUMATOID ARTHRITIS | VASCULITIC RASH | 66 |\n",
       "| 3 | 1 | ORAL | M | OT | RHEUMATOID ARTHRITIS | VASCULITIC RASH | 66 |\n",
       "| 4 | 1 | ORAL | M | OT | RHEUMATOID ARTHRITIS | VASCULITIC RASH | 57 |\n",
       "| 5 | 1 | ORAL | M | OT | RHEUMATOID ARTHRITIS | VASCULITIC RASH | 66 |\n",
       "| 6 | 1 | ORAL | M | OT | RHEUMATOID ARTHRITIS | VASCULITIC RASH | 66 |\n",
       "\n"
      ],
      "text/plain": [
       "  Cluster route sex outc_cod indi_pt              pt              age\n",
       "1 1       ORAL  M   OT       RHEUMATOID ARTHRITIS VASCULITIC RASH 63 \n",
       "2 1       ORAL  F   OT       RHEUMATOID ARTHRITIS VASCULITIC RASH 66 \n",
       "3 1       ORAL  M   OT       RHEUMATOID ARTHRITIS VASCULITIC RASH 66 \n",
       "4 1       ORAL  M   OT       RHEUMATOID ARTHRITIS VASCULITIC RASH 57 \n",
       "5 1       ORAL  M   OT       RHEUMATOID ARTHRITIS VASCULITIC RASH 66 \n",
       "6 1       ORAL  M   OT       RHEUMATOID ARTHRITIS VASCULITIC RASH 66 "
      ]
     },
     "metadata": {},
     "output_type": "display_data"
    }
   ],
   "source": [
    "my_data= cbind(data.frame(Cluster=clusterGroups), my_data, age)\n",
    "head(my_data)"
   ]
  },
  {
   "cell_type": "markdown",
   "metadata": {},
   "source": [
    "### Number of Observations in Each Cluster"
   ]
  },
  {
   "cell_type": "code",
   "execution_count": 34,
   "metadata": {},
   "outputs": [
    {
     "data": {
      "text/html": [
       "<table class=\"dataframe\">\n",
       "<caption>A data.frame: 4 × 2</caption>\n",
       "<thead>\n",
       "\t<tr><th scope=col>cluster</th><th scope=col>Number_of_observations</th></tr>\n",
       "\t<tr><th scope=col>&lt;int&gt;</th><th scope=col>&lt;int&gt;</th></tr>\n",
       "</thead>\n",
       "<tbody>\n",
       "\t<tr><td>1</td><td>20</td></tr>\n",
       "\t<tr><td>2</td><td>13</td></tr>\n",
       "\t<tr><td>3</td><td>15</td></tr>\n",
       "\t<tr><td>4</td><td>24</td></tr>\n",
       "</tbody>\n",
       "</table>\n"
      ],
      "text/latex": [
       "A data.frame: 4 × 2\n",
       "\\begin{tabular}{ll}\n",
       " cluster & Number\\_of\\_observations\\\\\n",
       " <int> & <int>\\\\\n",
       "\\hline\n",
       "\t 1 & 20\\\\\n",
       "\t 2 & 13\\\\\n",
       "\t 3 & 15\\\\\n",
       "\t 4 & 24\\\\\n",
       "\\end{tabular}\n"
      ],
      "text/markdown": [
       "\n",
       "A data.frame: 4 × 2\n",
       "\n",
       "| cluster &lt;int&gt; | Number_of_observations &lt;int&gt; |\n",
       "|---|---|\n",
       "| 1 | 20 |\n",
       "| 2 | 13 |\n",
       "| 3 | 15 |\n",
       "| 4 | 24 |\n",
       "\n"
      ],
      "text/plain": [
       "  cluster Number_of_observations\n",
       "1 1       20                    \n",
       "2 2       13                    \n",
       "3 3       15                    \n",
       "4 4       24                    "
      ]
     },
     "metadata": {},
     "output_type": "display_data"
    }
   ],
   "source": [
    "observationsH=c()\n",
    "for (i in seq(1,4)){\n",
    "  observationsH=c(observationsH,length(subset(clusterdrug, clusterGroups==i)))\n",
    "}\n",
    "observationsH =as.data.frame(list(cluster=c(1:4),Number_of_observations=observationsH))\n",
    "observationsH "
   ]
  },
  {
   "cell_type": "markdown",
   "metadata": {},
   "source": [
    "### What is the most common observation in each cluster?"
   ]
  },
  {
   "cell_type": "code",
   "execution_count": 35,
   "metadata": {},
   "outputs": [
    {
     "data": {
      "text/html": [
       "<table class=\"dataframe\">\n",
       "<caption>A matrix: 18 × 4 of type dbl</caption>\n",
       "<thead>\n",
       "\t<tr><th></th><th scope=col>cluster1</th><th scope=col>cluster2</th><th scope=col>cluster3</th><th scope=col>cluster4</th></tr>\n",
       "</thead>\n",
       "<tbody>\n",
       "\t<tr><th scope=row>INTRAVENOUS</th><td> 0.00</td><td> 0.00</td><td>1.00</td><td> 0.00</td></tr>\n",
       "\t<tr><th scope=row>OPHTHALMIC</th><td> 0.00</td><td> 0.00</td><td>0.00</td><td> 0.92</td></tr>\n",
       "\t<tr><th scope=row>ORAL</th><td> 1.00</td><td> 0.08</td><td>0.00</td><td> 0.08</td></tr>\n",
       "\t<tr><th scope=row>TOPICAL</th><td> 0.00</td><td> 0.92</td><td>0.00</td><td> 0.00</td></tr>\n",
       "\t<tr><th scope=row>F</th><td> 0.10</td><td> 0.85</td><td>0.80</td><td> 1.00</td></tr>\n",
       "\t<tr><th scope=row>M</th><td> 0.90</td><td> 0.15</td><td>0.20</td><td> 0.00</td></tr>\n",
       "\t<tr><th scope=row>DE</th><td> 0.00</td><td> 0.00</td><td>0.00</td><td> 0.83</td></tr>\n",
       "\t<tr><th scope=row>HO</th><td> 0.05</td><td> 0.77</td><td>0.07</td><td> 0.04</td></tr>\n",
       "\t<tr><th scope=row>LT</th><td> 0.05</td><td> 0.08</td><td>0.80</td><td> 0.04</td></tr>\n",
       "\t<tr><th scope=row>OT</th><td> 0.90</td><td> 0.15</td><td>0.13</td><td> 0.08</td></tr>\n",
       "\t<tr><th scope=row>RHEUMATOID ARTHRITIS</th><td> 1.00</td><td> 0.00</td><td>0.00</td><td> 0.00</td></tr>\n",
       "\t<tr><th scope=row>Senile osteoporosis</th><td> 0.00</td><td> 0.00</td><td>0.00</td><td> 1.00</td></tr>\n",
       "\t<tr><th scope=row>TONSILLITIS</th><td> 0.00</td><td> 0.00</td><td>1.00</td><td> 0.00</td></tr>\n",
       "\t<tr><th scope=row>URINARY TRACT INFECTION</th><td> 0.00</td><td> 1.00</td><td>0.00</td><td> 0.00</td></tr>\n",
       "\t<tr><th scope=row>Sepsis</th><td> 0.00</td><td> 0.00</td><td>0.00</td><td> 1.00</td></tr>\n",
       "\t<tr><th scope=row>VASCULITIC RASH</th><td> 1.00</td><td> 0.00</td><td>0.00</td><td> 0.00</td></tr>\n",
       "\t<tr><th scope=row>VOMITING</th><td> 0.00</td><td> 1.00</td><td>1.00</td><td> 0.00</td></tr>\n",
       "\t<tr><th scope=row>Age</th><td>61.80</td><td>17.54</td><td>5.80</td><td>44.62</td></tr>\n",
       "</tbody>\n",
       "</table>\n"
      ],
      "text/latex": [
       "A matrix: 18 × 4 of type dbl\n",
       "\\begin{tabular}{r|llll}\n",
       "  & cluster1 & cluster2 & cluster3 & cluster4\\\\\n",
       "\\hline\n",
       "\tINTRAVENOUS &  0.00 &  0.00 & 1.00 &  0.00\\\\\n",
       "\tOPHTHALMIC &  0.00 &  0.00 & 0.00 &  0.92\\\\\n",
       "\tORAL &  1.00 &  0.08 & 0.00 &  0.08\\\\\n",
       "\tTOPICAL &  0.00 &  0.92 & 0.00 &  0.00\\\\\n",
       "\tF &  0.10 &  0.85 & 0.80 &  1.00\\\\\n",
       "\tM &  0.90 &  0.15 & 0.20 &  0.00\\\\\n",
       "\tDE &  0.00 &  0.00 & 0.00 &  0.83\\\\\n",
       "\tHO &  0.05 &  0.77 & 0.07 &  0.04\\\\\n",
       "\tLT &  0.05 &  0.08 & 0.80 &  0.04\\\\\n",
       "\tOT &  0.90 &  0.15 & 0.13 &  0.08\\\\\n",
       "\tRHEUMATOID ARTHRITIS &  1.00 &  0.00 & 0.00 &  0.00\\\\\n",
       "\tSenile osteoporosis &  0.00 &  0.00 & 0.00 &  1.00\\\\\n",
       "\tTONSILLITIS &  0.00 &  0.00 & 1.00 &  0.00\\\\\n",
       "\tURINARY TRACT INFECTION &  0.00 &  1.00 & 0.00 &  0.00\\\\\n",
       "\tSepsis &  0.00 &  0.00 & 0.00 &  1.00\\\\\n",
       "\tVASCULITIC RASH &  1.00 &  0.00 & 0.00 &  0.00\\\\\n",
       "\tVOMITING &  0.00 &  1.00 & 1.00 &  0.00\\\\\n",
       "\tAge & 61.80 & 17.54 & 5.80 & 44.62\\\\\n",
       "\\end{tabular}\n"
      ],
      "text/markdown": [
       "\n",
       "A matrix: 18 × 4 of type dbl\n",
       "\n",
       "| <!--/--> | cluster1 | cluster2 | cluster3 | cluster4 |\n",
       "|---|---|---|---|---|\n",
       "| INTRAVENOUS |  0.00 |  0.00 | 1.00 |  0.00 |\n",
       "| OPHTHALMIC |  0.00 |  0.00 | 0.00 |  0.92 |\n",
       "| ORAL |  1.00 |  0.08 | 0.00 |  0.08 |\n",
       "| TOPICAL |  0.00 |  0.92 | 0.00 |  0.00 |\n",
       "| F |  0.10 |  0.85 | 0.80 |  1.00 |\n",
       "| M |  0.90 |  0.15 | 0.20 |  0.00 |\n",
       "| DE |  0.00 |  0.00 | 0.00 |  0.83 |\n",
       "| HO |  0.05 |  0.77 | 0.07 |  0.04 |\n",
       "| LT |  0.05 |  0.08 | 0.80 |  0.04 |\n",
       "| OT |  0.90 |  0.15 | 0.13 |  0.08 |\n",
       "| RHEUMATOID ARTHRITIS |  1.00 |  0.00 | 0.00 |  0.00 |\n",
       "| Senile osteoporosis |  0.00 |  0.00 | 0.00 |  1.00 |\n",
       "| TONSILLITIS |  0.00 |  0.00 | 1.00 |  0.00 |\n",
       "| URINARY TRACT INFECTION |  0.00 |  1.00 | 0.00 |  0.00 |\n",
       "| Sepsis |  0.00 |  0.00 | 0.00 |  1.00 |\n",
       "| VASCULITIC RASH |  1.00 |  0.00 | 0.00 |  0.00 |\n",
       "| VOMITING |  0.00 |  1.00 | 1.00 |  0.00 |\n",
       "| Age | 61.80 | 17.54 | 5.80 | 44.62 |\n",
       "\n"
      ],
      "text/plain": [
       "                        cluster1 cluster2 cluster3 cluster4\n",
       "INTRAVENOUS              0.00     0.00    1.00      0.00   \n",
       "OPHTHALMIC               0.00     0.00    0.00      0.92   \n",
       "ORAL                     1.00     0.08    0.00      0.08   \n",
       "TOPICAL                  0.00     0.92    0.00      0.00   \n",
       "F                        0.10     0.85    0.80      1.00   \n",
       "M                        0.90     0.15    0.20      0.00   \n",
       "DE                       0.00     0.00    0.00      0.83   \n",
       "HO                       0.05     0.77    0.07      0.04   \n",
       "LT                       0.05     0.08    0.80      0.04   \n",
       "OT                       0.90     0.15    0.13      0.08   \n",
       "RHEUMATOID ARTHRITIS     1.00     0.00    0.00      0.00   \n",
       "Senile osteoporosis      0.00     0.00    0.00      1.00   \n",
       "TONSILLITIS              0.00     0.00    1.00      0.00   \n",
       "URINARY TRACT INFECTION  0.00     1.00    0.00      0.00   \n",
       "Sepsis                   0.00     0.00    0.00      1.00   \n",
       "VASCULITIC RASH          1.00     0.00    0.00      0.00   \n",
       "VOMITING                 0.00     1.00    1.00      0.00   \n",
       "Age                     61.80    17.54    5.80     44.62   "
      ]
     },
     "metadata": {},
     "output_type": "display_data"
    }
   ],
   "source": [
    "z=do.call(cbind,lapply(1:4, function(i) round(colMeans(subset(my_matrix,clusterGroups==i)),2)))\n",
    "colnames(z)=paste0('cluster',seq(1,4))\n",
    "z"
   ]
  },
  {
   "cell_type": "code",
   "execution_count": 42,
   "metadata": {},
   "outputs": [],
   "source": [
    "my_data<-read.csv(\"Machine-Learning-for-Drug-Adverse-Event-Discovery.csv\")"
   ]
  },
  {
   "cell_type": "raw",
   "metadata": {},
   "source": [
    "Age=z[nrow(z),]\n",
    "z=z[1:(nrow(z)-1),]\n",
    "my_result=matrix(0,ncol=4,nrow=ncol(my_data))\n",
    "for(i in seq(1,4)){\n",
    "    for(j in seq(1,ncol(my_data))){\n",
    "q = names(my_data)[j]\n",
    "q = as.vector(as.matrix(unique(my_data[q])))\n",
    "my_result[j,i]=names(sort(z[q,i],decreasing = TRUE)[1])}}\n",
    "colnames(my_result)=paste0('Cluster',seq(1,4))\n",
    "rownames(my_result)=names(my_data)\n",
    "my_result=rbind(Age,my_result)\n",
    "my_result <- cbind(Attribute =c(\"Age\",\"Route\",\"Sex\",\"Outcome Code\",\"Indication preferred term\",\"Adverse event\"), my_result)\n",
    "rownames(my_result) <- NULL\n",
    "my_result"
   ]
  },
  {
   "cell_type": "code",
   "execution_count": null,
   "metadata": {},
   "outputs": [],
   "source": []
  }
 ],
 "metadata": {
  "kernelspec": {
   "display_name": "R",
   "language": "R",
   "name": "ir"
  },
  "language_info": {
   "codemirror_mode": "r",
   "file_extension": ".r",
   "mimetype": "text/x-r-source",
   "name": "R",
   "pygments_lexer": "r",
   "version": "4.0.4"
  }
 },
 "nbformat": 4,
 "nbformat_minor": 4
}
