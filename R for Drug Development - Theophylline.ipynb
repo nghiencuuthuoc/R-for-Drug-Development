{
 "cells": [
  {
   "cell_type": "markdown",
   "metadata": {},
   "source": [
    "# R for Drug Development \n",
    "## Theophylline single-dose Concentration vs. time by individual"
   ]
  },
  {
   "cell_type": "markdown",
   "metadata": {},
   "source": [
    "https://github.com/philbowsher/Managers-R-for-Drug-Development-Session/tree/master/nlmixr"
   ]
  },
  {
   "cell_type": "raw",
   "metadata": {},
   "source": [
    "# install.packages(\"devtools\")\n",
    "devtools::install_github(\"nlmixrdevelopment/nlmixr\")"
   ]
  },
  {
   "cell_type": "markdown",
   "metadata": {},
   "source": [
    "### nlmixr\n",
    "nlmixr is an R package for fitting general dynamic models, pharmacokinetic (PK) models and pharmacokinetic-pharmacodynamic (PKPD) models in particular, with either individual data or population data.\n",
    "\n",
    "https://github.com/nlmixrdevelopment/nlmixr"
   ]
  },
  {
   "cell_type": "code",
   "execution_count": 2,
   "metadata": {
    "scrolled": true
   },
   "outputs": [
    {
     "ename": "ERROR",
     "evalue": "Error in library(nlmixr): there is no package called ‘nlmixr’\n",
     "output_type": "error",
     "traceback": [
      "Error in library(nlmixr): there is no package called ‘nlmixr’\nTraceback:\n",
      "1. library(nlmixr)"
     ]
    }
   ],
   "source": [
    "library(nlmixr)\n",
    "library(ggplot2)\n",
    "library(xpose.nlmixr)"
   ]
  },
  {
   "cell_type": "code",
   "execution_count": null,
   "metadata": {},
   "outputs": [],
   "source": []
  }
 ],
 "metadata": {
  "kernelspec": {
   "display_name": "R",
   "language": "R",
   "name": "ir"
  },
  "language_info": {
   "codemirror_mode": "r",
   "file_extension": ".r",
   "mimetype": "text/x-r-source",
   "name": "R",
   "pygments_lexer": "r",
   "version": "4.0.4"
  }
 },
 "nbformat": 4,
 "nbformat_minor": 4
}
